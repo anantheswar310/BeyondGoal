{
 "cells": [
  {
   "cell_type": "code",
   "execution_count": 1,
   "metadata": {},
   "outputs": [
    {
     "name": "stdout",
     "output_type": "stream",
     "text": [
      "/Users/ananth/Desktop/My Code/AI/Projects/BeyondGoal/src/console-app\n"
     ]
    }
   ],
   "source": [
    "import os\n",
    "HOME = os.getcwd()\n",
    "print(HOME)"
   ]
  },
  {
   "cell_type": "code",
   "execution_count": 2,
   "metadata": {},
   "outputs": [],
   "source": [
    "from getpass import getpass\n",
    "os.environ['KAGGLE_USERNAME'] = getpass('anantheswarg881')\n",
    "os.environ['KAGGLE_KEY'] = getpass('7d088e57615257d28d5e4f5a5991b11b')\n",
    "    "
   ]
  },
  {
   "cell_type": "code",
   "execution_count": null,
   "metadata": {},
   "outputs": [],
   "source": [
    "import kaggle\n",
    "!kaggle competitions files -c dfl-bundesliga-data-shootout | grep clips | head -10"
   ]
  }
 ],
 "metadata": {
  "kernelspec": {
   "display_name": "beyond-goal-env",
   "language": "python",
   "name": "python3"
  },
  "language_info": {
   "codemirror_mode": {
    "name": "ipython",
    "version": 3
   },
   "file_extension": ".py",
   "mimetype": "text/x-python",
   "name": "python",
   "nbconvert_exporter": "python",
   "pygments_lexer": "ipython3",
   "version": "3.11.5"
  }
 },
 "nbformat": 4,
 "nbformat_minor": 2
}
